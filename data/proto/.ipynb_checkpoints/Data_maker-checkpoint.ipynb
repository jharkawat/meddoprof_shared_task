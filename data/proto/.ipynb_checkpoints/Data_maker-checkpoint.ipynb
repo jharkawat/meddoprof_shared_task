{
 "cells": [
  {
   "cell_type": "code",
   "execution_count": 6,
   "metadata": {},
   "outputs": [
    {
     "name": "stdout",
     "output_type": "stream",
     "text": [
      "Named explicitly:\n"
     ]
    }
   ],
   "source": [
    "import glob \n",
    "  \n",
    "  \n",
    "print('Named explicitly:') \n",
    "train_files=[]\n",
    "test_files=[]\n",
    "dev_files=[]\n",
    "\n",
    "for name in glob.glob('/home/iamtejas/W-NUT_2020/mycode/data/proto/train_data/Conll_Format/*'): \n",
    "    train_files.append(name)"
   ]
  },
  {
   "cell_type": "markdown",
   "metadata": {},
   "source": [
    "# Making data for bert"
   ]
  },
  {
   "cell_type": "code",
   "execution_count": 7,
   "metadata": {},
   "outputs": [],
   "source": [
    "with open('/home/iamtejas/W-NUT_2020/mycode/data/proto/train_bio.txt', 'w') as outfile:\n",
    "    for fname in train_files:\n",
    "        with open(fname) as infile:\n",
    "            for line in infile:\n",
    "                outfile.write(line)"
   ]
  },
  {
   "cell_type": "code",
   "execution_count": 9,
   "metadata": {},
   "outputs": [],
   "source": [
    "for name in glob.glob('/home/iamtejas/W-NUT_2020/mycode/data/proto/test_data/Conll_Format/*'): \n",
    "    test_files.append(name)\n",
    "with open('/home/iamtejas/W-NUT_2020/mycode/data/proto/test_bio.txt', 'w') as outfile:\n",
    "    for fname in test_files:\n",
    "        with open(fname) as infile:\n",
    "            for line in infile:\n",
    "                outfile.write(line)    "
   ]
  },
  {
   "cell_type": "code",
   "execution_count": 10,
   "metadata": {
    "collapsed": true
   },
   "outputs": [],
   "source": [
    "for name in glob.glob('/home/iamtejas/W-NUT_2020/mycode/data/proto/dev_data/Conll_Format/*'): \n",
    "    dev_files.append(name)\n",
    "with open('/home/iamtejas/W-NUT_2020/mycode/data/proto/dev_bio.txt', 'w') as outfile:\n",
    "    for fname in dev_files:\n",
    "        with open(fname) as infile:\n",
    "            for line in infile:\n",
    "                outfile.write(line)    "
   ]
  },
  {
   "cell_type": "code",
   "execution_count": null,
   "metadata": {
    "collapsed": true
   },
   "outputs": [],
   "source": []
  }
 ],
 "metadata": {
  "kernelspec": {
   "display_name": "Python 3",
   "language": "python",
   "name": "python3"
  },
  "language_info": {
   "codemirror_mode": {
    "name": "ipython",
    "version": 3
   },
   "file_extension": ".py",
   "mimetype": "text/x-python",
   "name": "python",
   "nbconvert_exporter": "python",
   "pygments_lexer": "ipython3",
   "version": "3.6.3"
  }
 },
 "nbformat": 4,
 "nbformat_minor": 2
}
