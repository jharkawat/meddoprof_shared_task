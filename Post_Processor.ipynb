{
 "cells": [
  {
   "cell_type": "code",
   "execution_count": 1,
   "metadata": {},
   "outputs": [],
   "source": [
    "import glob\n",
    "import codecs"
   ]
  },
  {
   "cell_type": "code",
   "execution_count": 2,
   "metadata": {},
   "outputs": [],
   "source": [
    "path=\"./Standoff_Format_Merged/*.ann\""
   ]
  },
  {
   "cell_type": "code",
   "execution_count": 3,
   "metadata": {},
   "outputs": [],
   "source": [
    "in_files = glob.glob(path)"
   ]
  },
  {
   "cell_type": "code",
   "execution_count": 4,
   "metadata": {},
   "outputs": [],
   "source": [
    "INPUT_ENCODING = \"UTF-8\"\n",
    "OUTPUT_ENCODING = \"UTF-8\""
   ]
  },
  {
   "cell_type": "code",
   "execution_count": null,
   "metadata": {},
   "outputs": [],
   "source": [
    "output_directory='only_ann'"
   ]
  },
  {
   "cell_type": "code",
   "execution_count": 9,
   "metadata": {},
   "outputs": [
    {
     "data": {
      "text/plain": [
       "'./Standoff_Format_Merged/casos_clinicos_profesiones128.txt.ann'"
      ]
     },
     "execution_count": 9,
     "metadata": {},
     "output_type": "execute_result"
    }
   ],
   "source": [
    "in_files[1]"
   ]
  },
  {
   "cell_type": "code",
   "execution_count": 14,
   "metadata": {},
   "outputs": [],
   "source": [
    "for in_file in in_files:\n",
    "    punc = '''!()-[]{};:'\"\\, <>./?@#$%^&*_~'''\n",
    "    tmp_line = []\n",
    "    with codecs.open(in_file, encoding=INPUT_ENCODING) as f:\n",
    "        lines = f.readlines()\n",
    "        for line in lines:\n",
    "            tmp = line.split('\\t')\n",
    "            if tmp[-1][-2] not in punc:\n",
    "                tmp_line.append(line)\n",
    "                continue\n",
    "            else:\n",
    "                tmp_ind_one = tmp[1].split()\n",
    "                tmp_ind_one = tmp_ind_one[0]+\" \"+tmp_ind_one[1]+\" \"+str(int(tmp_ind_one[-1])-1)\n",
    "                tmp[1] = tmp_ind_one\n",
    "                tmp[2]=tmp[2][:-2]+'\\n'\n",
    "                tmp_line.append(\"\\t\".join(tmp))\n",
    "    \n",
    "    with codecs.open(\"ann_files/\"+in_file.split('/')[-1], 'w') as q:\n",
    "        for item in tmp_line:\n",
    "            q.write(\"%s\\n\" % item)\n",
    "    print(\"done {}\".format(in_file))"
   ]
  },
  {
   "cell_type": "code",
   "execution_count": 10,
   "metadata": {},
   "outputs": [],
   "source": []
  },
  {
   "cell_type": "code",
   "execution_count": null,
   "metadata": {},
   "outputs": [],
   "source": [
    "if output_directory is None:\n",
    "        txtout = sys.stdout\n",
    "        soout = sys.stdout"
   ]
  },
  {
   "cell_type": "code",
   "execution_count": 74,
   "metadata": {},
   "outputs": [],
   "source": [
    "lines = ['T1\\tPROFESION 29 36\\ttrabajó\\n', 'T2\\tPROFESION 48 77\\taño en un pequeño laboratorio\\n']"
   ]
  },
  {
   "cell_type": "code",
   "execution_count": 46,
   "metadata": {},
   "outputs": [],
   "source": [
    "tej = lines[1].split('\\t')"
   ]
  },
  {
   "cell_type": "code",
   "execution_count": 60,
   "metadata": {},
   "outputs": [
    {
     "data": {
      "text/plain": [
       "'T2\\tPROFESION 395 428\\tse dedicaba a reparar ordenadores\\n'"
      ]
     },
     "execution_count": 60,
     "metadata": {},
     "output_type": "execute_result"
    }
   ],
   "source": [
    "\"\\t\".join(tej)"
   ]
  },
  {
   "cell_type": "code",
   "execution_count": 47,
   "metadata": {},
   "outputs": [
    {
     "data": {
      "text/plain": [
       "['PROFESION', '395', '428']"
      ]
     },
     "execution_count": 47,
     "metadata": {},
     "output_type": "execute_result"
    }
   ],
   "source": [
    "tej[1].split()"
   ]
  },
  {
   "cell_type": "code",
   "execution_count": 50,
   "metadata": {},
   "outputs": [
    {
     "data": {
      "text/plain": [
       "[['T2'],\n",
       " ['PROFESION', '395', '428'],\n",
       " ['se', 'dedicaba', 'a', 'reparar', 'ordenadores']]"
      ]
     },
     "execution_count": 50,
     "metadata": {},
     "output_type": "execute_result"
    }
   ],
   "source": [
    "[t.split() for t in tej]"
   ]
  },
  {
   "cell_type": "code",
   "execution_count": null,
   "metadata": {},
   "outputs": [],
   "source": []
  }
 ],
 "metadata": {
  "kernelspec": {
   "display_name": "Python 3",
   "language": "python",
   "name": "python3"
  },
  "language_info": {
   "codemirror_mode": {
    "name": "ipython",
    "version": 3
   },
   "file_extension": ".py",
   "mimetype": "text/x-python",
   "name": "python",
   "nbconvert_exporter": "python",
   "pygments_lexer": "ipython3",
   "version": "3.7.0"
  }
 },
 "nbformat": 4,
 "nbformat_minor": 2
}
